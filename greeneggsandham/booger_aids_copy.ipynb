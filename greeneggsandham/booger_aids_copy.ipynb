{
 "cells": [
  {
   "cell_type": "code",
   "execution_count": 1,
   "id": "3509e282",
   "metadata": {},
   "outputs": [],
   "source": [
    "import librosa\n",
    "import numpy as np\n",
    "from sklearn import svm\n",
    "from sklearn.model_selection import train_test_split, GridSearchCV\n",
    "from sklearn.preprocessing import StandardScaler\n",
    "from sklearn.metrics import accuracy_score\n",
    "import os"
   ]
  },
  {
   "cell_type": "code",
   "execution_count": 2,
   "id": "1d0d70f0",
   "metadata": {},
   "outputs": [],
   "source": [
    "def extract_features(file_path):\n",
    "    audio, sr = librosa.load(file_path, sr=None)\n",
    "    mfccs = librosa.feature.mfcc(y=audio, sr=sr, n_mfcc=13)\n",
    "    return np.mean(mfccs, axis=1)  # Average MFCCs for now"
   ]
  },
  {
   "cell_type": "code",
   "execution_count": 3,
   "id": "912f4c97",
   "metadata": {},
   "outputs": [],
   "source": [
    "def load_data(data_dir):\n",
    "    singer_names = sorted([d for d in os.listdir(data_dir) if os.path.isdir(os.path.join(data_dir, d))])\n",
    "    features, labels = [], []\n",
    "    for i, singer in enumerate(singer_names):\n",
    "        folder_path = os.path.join(data_dir, singer)\n",
    "        print(f\"Loading {singer} samples...\")\n",
    "        for audio_file in os.listdir(folder_path):\n",
    "            if audio_file.endswith('.wav'):\n",
    "                file_path = os.path.join(folder_path, audio_file)\n",
    "                voice_features = extract_features(file_path)\n",
    "                features.append(voice_features)\n",
    "                labels.append(i)  # Use integer labels\n",
    "    return np.array(features), np.array(labels), singer_names"
   ]
  },
  {
   "cell_type": "code",
   "execution_count": null,
   "id": "c61e06a4",
   "metadata": {},
   "outputs": [],
   "source": [
    "data_dir1 = '/home/nirjhar/CODE/greeneggsandham/training'\n",
    "data_dir2 = '/home/nirjhar/CODE/greeneggsandham/testing-5s'"
   ]
  },
  {
   "cell_type": "code",
   "execution_count": null,
   "id": "75393fb5",
   "metadata": {},
   "outputs": [
    {
     "name": "stdout",
     "output_type": "stream",
     "text": [
      "Loading voice samples...\n",
      "TRAINING SAMPLES...\n",
      "Loading arijit samples...\n"
     ]
    },
    {
     "name": "stdout",
     "output_type": "stream",
     "text": [
      "Loading lata samples...\n",
      "Loading shreya samples...\n",
      "TESTING SAMPLES...\n",
      "Loading arijit samples...\n",
      "Loading lata samples...\n",
      "Loading shreya samples...\n",
      "Total samples: 274\n",
      "Features per sample: 13\n",
      "Training samples: 213\n",
      "Testing samples: 61\n"
     ]
    }
   ],
   "source": [
    "print(\"Loading voice samples...\")\n",
    "print(\"TRAINING SAMPLES...\")\n",
    "X_train, y_train, singer_names_train = load_data(data_dir1)\n",
    "print(\"TESTING SAMPLES...\")\n",
    "X_test, y_test, singer_names_test = load_data(data_dir2)\n",
    "print(f\"Total samples: {len(X_train) + len(X_test)}\")\n",
    "print(f\"Features per sample: {X_train.shape[1]}\")\n",
    "\n",
    "\n",
    "print(f\"Training samples: {len(X_train)}\")\n",
    "print(f\"Testing samples: {len(X_test))}\""
   ]
  },
  {
   "cell_type": "code",
   "execution_count": 9,
   "id": "3cb822ac",
   "metadata": {},
   "outputs": [
    {
     "name": "stdout",
     "output_type": "stream",
     "text": [
      "Tuning SVM hyperparameters...\n",
      "Best parameters: {'C': 10, 'gamma': 0.01, 'kernel': 'rbf'}\n",
      "Best CV accuracy: 0.48\n"
     ]
    }
   ],
   "source": [
    "print(\"Tuning SVM hyperparameters...\")\n",
    "param_grid = {\n",
    "    'C': [0.1, 1, 10],\n",
    "    'gamma': [0.01, 0.1, 1],\n",
    "    'kernel': ['rbf']\n",
    "}\n",
    "svm_model = svm.SVC(decision_function_shape='ovr')\n",
    "grid_search = GridSearchCV(svm_model, param_grid, cv=5, scoring='accuracy')\n",
    "grid_search.fit(X_train, y_train)\n",
    "print(f\"Best parameters: {grid_search.best_params_}\")\n",
    "print(f\"Best CV accuracy: {grid_search.best_score_:.2f}\")"
   ]
  },
  {
   "cell_type": "code",
   "execution_count": 12,
   "id": "901b2a41",
   "metadata": {},
   "outputs": [
    {
     "name": "stdout",
     "output_type": "stream",
     "text": [
      "Training the SVM model...\n",
      "Test Accuracy: 0.72 (72.1%)\n",
      "Actual: arijit, Predicted: shreya\n",
      "Actual: arijit, Predicted: shreya\n",
      "Actual: arijit, Predicted: shreya\n",
      "Actual: arijit, Predicted: shreya\n",
      "Actual: arijit, Predicted: shreya\n",
      "Actual: arijit, Predicted: shreya\n",
      "Actual: arijit, Predicted: shreya\n",
      "Actual: arijit, Predicted: shreya\n",
      "Actual: arijit, Predicted: shreya\n",
      "Actual: arijit, Predicted: shreya\n",
      "Actual: arijit, Predicted: shreya\n",
      "Actual: arijit, Predicted: shreya\n",
      "Actual: arijit, Predicted: shreya\n",
      "Actual: arijit, Predicted: shreya\n",
      "Actual: arijit, Predicted: shreya\n",
      "Actual: lata, Predicted: lata\n",
      "Actual: lata, Predicted: lata\n",
      "Actual: lata, Predicted: lata\n",
      "Actual: lata, Predicted: shreya\n",
      "Actual: lata, Predicted: lata\n"
     ]
    }
   ],
   "source": [
    "model = grid_search.best_estimator_\n",
    "print(\"Training the SVM model...\")\n",
    "model.fit(X_train, y_train)\n",
    "\n",
    "y_pred = model.predict(X_test)\n",
    "accuracy = accuracy_score(y_test, y_pred)\n",
    "print(f\"Test Accuracy: {accuracy:.2f} ({accuracy*100:.1f}%)\")\n",
    "\n",
    "# Sample predictions\n",
    "for i in range(min(20, len(X_test))):\n",
    "    predicted = singer_names_test[y_pred[i]]\n",
    "    actual = singer_names_test[y_test[i]]\n",
    "    print(f\"Actual: {actual}, Predicted: {predicted}\")"
   ]
  }
 ],
 "metadata": {
  "kernelspec": {
   "display_name": "Python 3",
   "language": "python",
   "name": "python3"
  },
  "language_info": {
   "codemirror_mode": {
    "name": "ipython",
    "version": 3
   },
   "file_extension": ".py",
   "mimetype": "text/x-python",
   "name": "python",
   "nbconvert_exporter": "python",
   "pygments_lexer": "ipython3",
   "version": "3.13.3"
  }
 },
 "nbformat": 4,
 "nbformat_minor": 5
}
