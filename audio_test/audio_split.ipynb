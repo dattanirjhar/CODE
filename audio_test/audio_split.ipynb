{
 "cells": [
  {
   "cell_type": "code",
   "execution_count": 1,
   "id": "347147e8",
   "metadata": {},
   "outputs": [],
   "source": [
    "from pydub import AudioSegment\n",
    "import os"
   ]
  },
  {
   "cell_type": "code",
   "execution_count": 5,
   "id": "4ed08e38",
   "metadata": {},
   "outputs": [],
   "source": [
    "def split_audio(input_dir, output_dir, segment_length_ms=5000):\n",
    "    # Create output directory if it doesn't exist\n",
    "    if not os.path.exists(output_dir):\n",
    "        os.makedirs(output_dir)\n",
    "    \n",
    "    # Process each singer's folder\n",
    "    for singer_folder in os.listdir(input_dir):\n",
    "        singer_path = os.path.join(input_dir, singer_folder)\n",
    "        if os.path.isdir(singer_path):\n",
    "            output_singer_path = os.path.join(output_dir, singer_folder)\n",
    "            os.makedirs(output_singer_path, exist_ok=True)\n",
    "            \n",
    "            # Process each audio file\n",
    "            for audio_file in os.listdir(singer_path):\n",
    "                if audio_file.endswith('.wav'):\n",
    "                    file_path = os.path.join(singer_path, audio_file)\n",
    "                    audio = AudioSegment.from_wav(file_path)\n",
    "                    \n",
    "                    # Split into 5-second segments\n",
    "                    for i in range(0, len(audio), segment_length_ms):\n",
    "                        segment = audio[i:i + segment_length_ms]\n",
    "                        segment_name = f\"{audio_file[:-4]}_part{i//segment_length_ms + 1}.wav\"\n",
    "                        segment_path = os.path.join(output_singer_path, segment_name)\n",
    "                        segment.export(segment_path, format=\"wav\")\n",
    "                        print(f\"Saved: {segment_path}\")"
   ]
  },
  {
   "cell_type": "code",
   "execution_count": 6,
   "id": "f3bc7e06",
   "metadata": {},
   "outputs": [],
   "source": [
    "input_dir = '/home/nirjhar/CODE/audio_test/dataset/kishore'  # Original dataset\n",
    "output_dir = '/home/nirjhar/CODE/audio_test/dataset_5s/kishore'  # New dataset with 5-second clips\n",
    "split_audio(input_dir, output_dir)"
   ]
  }
 ],
 "metadata": {
  "kernelspec": {
   "display_name": "Python 3",
   "language": "python",
   "name": "python3"
  },
  "language_info": {
   "codemirror_mode": {
    "name": "ipython",
    "version": 3
   },
   "file_extension": ".py",
   "mimetype": "text/x-python",
   "name": "python",
   "nbconvert_exporter": "python",
   "pygments_lexer": "ipython3",
   "version": "3.13.3"
  }
 },
 "nbformat": 4,
 "nbformat_minor": 5
}
